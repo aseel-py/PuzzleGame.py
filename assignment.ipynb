{
  "cells": [
    {
      "cell_type": "markdown",
      "metadata": {
        "id": "K-e8itbQ4i8p"
      },
      "source": [
        "assignment puzzle"
      ]
    },
    {
      "cell_type": "code",
      "execution_count": 34,
      "metadata": {
        "colab": {
          "base_uri": "https://localhost:8080/"
        },
        "id": "4YPsO4t74p17",
        "outputId": "eff9e0cc-6a40-47b2-89ba-48da38f6acec"
      },
      "outputs": [
        {
          "output_type": "stream",
          "name": "stdout",
          "text": [
            "Welocm in scramble game, lets play thhis game in 60 second... \n",
            "hard word\n",
            "the time you have 60 second\n",
            "The scrambled word: pmgngroiram\n",
            "Enter the correct word: programming\n",
            "Correct answer! WoW :)\n",
            "hard word\n",
            "the time you have 49 second\n",
            "The scrambled word: eovelpder\n",
            "Enter the correct word: developer\n",
            "Correct answer! WoW :)\n",
            "hard word\n",
            "the time you have 35 second\n",
            "The scrambled word: hgllacene\n",
            "Enter the correct word: challenge\n",
            "Correct answer! WoW :)\n",
            "hard word\n",
            "the time you have 25 second\n",
            "The scrambled word: rdeolevep\n",
            "Enter the correct word: developer\n",
            "Correct answer! WoW :)\n",
            "Medium word\n",
            "the time you have 20 second\n",
            "The scrambled word: pyntho\n",
            "Enter the correct word: python\n",
            "Correct answer! WoW :)\n",
            "hard word\n",
            "the time you have 16 second\n",
            "The scrambled word: rpoeldvee\n",
            "Enter the correct word: developer\n",
            "Correct answer! WoW :)\n",
            "hard word\n",
            "the time you have 11 second\n",
            "The scrambled word: llhceegan\n",
            "Enter the correct word: challrnge\n",
            "Wrong answer! :( TRY 1 of 3\n",
            "the time you have 6 second\n",
            "Enter the correct word: challenge\n",
            "Correct answer! WoW :)\n",
            "Medium word\n",
            "the time you have -1 second\n",
            "Times up :(\n",
            "your score: 70\n"
          ]
        }
      ],
      "source": [
        "import random\n",
        "import time\n",
        "lst = [\"python\", \"developer\", \"puzzle\", \"programming\", \"challenge\"]\n",
        "print(\"Welocm in scramble game, lets play thhis game in 60 second... \")\n",
        "def select_word():\n",
        "    x=random.choice(lst)\n",
        "    if len(x)<8 and len(x)>4:\n",
        "     print(\"Medium word\")\n",
        "    elif len(x)<=4:\n",
        "      print(\"easy word\")\n",
        "    elif len(x)>=8:\n",
        "      print(\"hard word\")\n",
        "\n",
        "    return x\n",
        "\n",
        "def scramble_word(word):\n",
        "    q = list(word)\n",
        "    random.shuffle(q)\n",
        "    return ''.join(q)\n",
        "\n",
        "def get_user_guess(scrm, Try):\n",
        "    if Try == 0:\n",
        "        print(f\"The scrambled word: {scrm}\")\n",
        "    return input(\"Enter the correct word: \")\n",
        "\n",
        "def check_guess(word,t):\n",
        "    scrm = scramble_word(word)\n",
        "    Try = 0\n",
        "    while Try < 3:\n",
        "      print(f\"the time you have {60-round(time.time()-t)} second\")\n",
        "      if time.time()-t>60:\n",
        "        print(\"Times up :(\")\n",
        "        return False\n",
        "      guess = get_user_guess(scrm, Try)\n",
        "      if guess == word:\n",
        "        print(\"Correct answer! WoW :)\")\n",
        "        return True\n",
        "      else:\n",
        "         Try += 1\n",
        "         print(f\"Wrong answer! :( TRY {Try} of 3\")\n",
        "\n",
        "    print(\"Ooooooooh! Game Over! You used all 3 tries :(\")\n",
        "    return False\n",
        "\n",
        "def play_game():\n",
        "  t=time.time()\n",
        "  s=0\n",
        "  while True:\n",
        "    word = select_word()\n",
        "    if not check_guess(word,t):\n",
        "       break\n",
        "    s+=10\n",
        "  print(\"your score:\",s)\n",
        "\n",
        "\n",
        "\n",
        "\n",
        "\n",
        "\n",
        "play_game()\n"
      ]
    },
    {
      "cell_type": "code",
      "source": [],
      "metadata": {
        "id": "A7syi9G0aJxC"
      },
      "execution_count": null,
      "outputs": []
    }
  ],
  "metadata": {
    "colab": {
      "provenance": []
    },
    "kernelspec": {
      "display_name": "Python 3",
      "name": "python3"
    },
    "language_info": {
      "name": "python"
    }
  },
  "nbformat": 4,
  "nbformat_minor": 0
}